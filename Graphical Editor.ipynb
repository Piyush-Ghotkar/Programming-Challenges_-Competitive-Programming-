{
 "cells": [
  {
   "cell_type": "code",
   "execution_count": null,
   "metadata": {
    "collapsed": false
   },
   "outputs": [
    {
     "name": "stdout",
     "output_type": "stream",
     "text": [
      "I 5 6\n",
      "s df\n",
      "S df\n",
      "df\n",
      "00000\n",
      "00000\n",
      "00000\n",
      "00000\n",
      "00000\n",
      "00000\n",
      "K 1 1 3 3 Q\n",
      "S ss\n",
      "ss\n",
      "QQQ00\n",
      "QQQ00\n",
      "QQQ00\n",
      "00000\n",
      "00000\n",
      "00000\n",
      "K 3 5 5 6 R\n",
      "S adf\n",
      "adf\n",
      "QQQ00\n",
      "QQQ00\n",
      "QQQ00\n",
      "00000\n",
      "00RRR\n",
      "00RRR\n"
     ]
    }
   ],
   "source": [
    "while(True):\n",
    "    a=input()\n",
    "    if(a=='X'):\n",
    "        break\n",
    "    list=a.split(' ')\n",
    "    \n",
    "    if(list[0]=='I'):\n",
    "        col=int(list[1])\n",
    "        row=int(list[2])\n",
    "        matrix=[['0']*col for _ in range(row)]\n",
    "        \n",
    "    elif(list[0]=='S'):\n",
    "        name=list[1]\n",
    "        print(name)\n",
    "        for i in range(row):\n",
    "            for j in range(col):\n",
    "                print(matrix[i][j],end='')\n",
    "            print('')\n",
    "        \n",
    "    \n",
    "    elif(list[0]=='C'):\n",
    "        for i in range(row):\n",
    "            for j in range(col):\n",
    "                matrix[i][j]='0'\n",
    "            \n",
    "    elif(list[0]=='L'):\n",
    "        y=int(list[1])\n",
    "        x=int(list[2])\n",
    "        c=list[3]\n",
    "        matrix[x-1][y-1]=c\n",
    "        \n",
    "    elif(list[0]=='V'):\n",
    "        colt=int(list[1])\n",
    "        row1=int(list[2])\n",
    "        row2=int(list[3])\n",
    "        c=list[4]\n",
    "        for i in range(row1,row2+1):\n",
    "            matrix[i-1][colt-1]=c\n",
    "            \n",
    "    elif(list[0]=='H'):\n",
    "        col1=int(list[1])\n",
    "        col2=int(list[2])\n",
    "        rowt=int(list[3])\n",
    "        c=list[4]\n",
    "        for i in range(col1,col2+1):\n",
    "            matrix[rowt-1][i-1]=c\n",
    "            \n",
    "    elif(list[0]=='K'):\n",
    "        y1=int(list[1])\n",
    "        x1=int(list[2])\n",
    "        y2=int(list[3])\n",
    "        x2=int(list[4])\n",
    "        c=list[5]\n",
    "        for i in range(x1-1,x2):\n",
    "            for j in range(y1-1,y2):\n",
    "                matrix[i][j]=c"
   ]
  },
  {
   "cell_type": "code",
   "execution_count": null,
   "metadata": {
    "collapsed": false
   },
   "outputs": [],
   "source": []
  }
 ],
 "metadata": {
  "kernelspec": {
   "display_name": "Python 3",
   "language": "python",
   "name": "python3"
  },
  "language_info": {
   "codemirror_mode": {
    "name": "ipython",
    "version": 3
   },
   "file_extension": ".py",
   "mimetype": "text/x-python",
   "name": "python",
   "nbconvert_exporter": "python",
   "pygments_lexer": "ipython3",
   "version": "3.6.0"
  }
 },
 "nbformat": 4,
 "nbformat_minor": 2
}
