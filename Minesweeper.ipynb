{
 "cells": [
  {
   "cell_type": "code",
   "execution_count": 1,
   "metadata": {
    "collapsed": true
   },
   "outputs": [],
   "source": [
    "import numpy as np"
   ]
  },
  {
   "cell_type": "code",
   "execution_count": 7,
   "metadata": {
    "collapsed": false
   },
   "outputs": [
    {
     "name": "stdout",
     "output_type": "stream",
     "text": [
      "4 4\n",
      "....\n",
      "....\n",
      "....\n",
      "....\n",
      "2 2\n",
      "..\n",
      "..\n",
      "3 2\n",
      "..\n",
      "..\n",
      "..\n",
      "0 0\n",
      "\n",
      "Field #1:\n",
      "0000\n",
      "0000\n",
      "0000\n",
      "0000\n",
      "\n",
      "Field #2:\n",
      "00\n",
      "00\n",
      "\n",
      "Field #3:\n",
      "00\n",
      "00\n",
      "00\n"
     ]
    }
   ],
   "source": [
    "count=0\n",
    "dict={}\n",
    "dim1=[]\n",
    "\n",
    "while(True):\n",
    "    a=input()\n",
    "    list1=a.split(' ')\n",
    "    m=int(a[0])\n",
    "    n=int(a[2])\n",
    "    \n",
    "    temp1=str(m)+str(n)\n",
    "    temp2=list(temp1)\n",
    "    dim1.append(temp2)\n",
    "    \n",
    "    if(m==0 and n==0):\n",
    "        break;\n",
    "    \n",
    "    count+=1\n",
    "    mat1=[]\n",
    "    \n",
    "    for i in range (m):\n",
    "        temp=input()\n",
    "        row=list(temp)\n",
    "        mat1.append(row)\n",
    "    \n",
    "    mat=np.array(mat1)\n",
    "    \n",
    "    \n",
    "    for i in range (m):\n",
    "        for j in range (n):\n",
    "            if(mat[i][j]!=\"*\"):\n",
    "                mat[i][j]=\"0\"\n",
    "        \n",
    "    for i in range (m):\n",
    "        for j in range (n):\n",
    "            if(mat[i][j]!=\"*\"):\n",
    "                for x in range(i-1,i+2):\n",
    "                    for y in range(j-1,j+2):\n",
    "                        if(x>=0 and y>=0 and x<m and y<n):\n",
    "                            if(mat[x][y]==\"*\"):\n",
    "                                mat[i][j]=int(mat[i][j])+1\n",
    "                                \n",
    "    dict[count]=mat\n",
    "                \n",
    "dim=np.array(dim1)\n",
    "\n",
    "for z in range (1,count+1):\n",
    "    m=int(dim[z-1][0])\n",
    "    n=int(dim[z-1][1])\n",
    "    #print(\"adsfds\",m,n)\n",
    "    a=[]\n",
    "    a=dict[z]\n",
    "    print('\\nField #%d'%(z)+':')\n",
    "    for i in range (0,m):\n",
    "        for j in range (0,n):\n",
    "            print(a[i][j], end=\"\")\n",
    "        print(\"\")\n",
    "       "
   ]
  },
  {
   "cell_type": "code",
   "execution_count": 16,
   "metadata": {
    "collapsed": false
   },
   "outputs": [],
   "source": []
  },
  {
   "cell_type": "code",
   "execution_count": 6,
   "metadata": {
    "collapsed": false
   },
   "outputs": [
    {
     "name": "stdout",
     "output_type": "stream",
     "text": [
      "2\n"
     ]
    }
   ],
   "source": [
    "import numpy as np\n",
    "dim1=[]\n",
    "d=\"4\"+\"4\"\n",
    "temp=list(d)\n",
    "dim1.append(temp)\n",
    "\n",
    "d=\"2\"+\"2\"\n",
    "temp=list(d)\n",
    "dim1.append(temp)\n",
    "\n",
    "dim=np.array(dim1)\n",
    "\n",
    "print(dim[1][1])"
   ]
  }
 ],
 "metadata": {
  "kernelspec": {
   "display_name": "Python 3",
   "language": "python",
   "name": "python3"
  },
  "language_info": {
   "codemirror_mode": {
    "name": "ipython",
    "version": 3
   },
   "file_extension": ".py",
   "mimetype": "text/x-python",
   "name": "python",
   "nbconvert_exporter": "python",
   "pygments_lexer": "ipython3",
   "version": "3.6.0"
  }
 },
 "nbformat": 4,
 "nbformat_minor": 2
}
